{
  "nbformat": 4,
  "nbformat_minor": 0,
  "metadata": {
    "colab": {
      "provenance": []
    },
    "kernelspec": {
      "display_name": "Python 3",
      "language": "python",
      "name": "python3"
    },
    "language_info": {
      "codemirror_mode": {
        "name": "ipython",
        "version": 3
      },
      "file_extension": ".py",
      "mimetype": "text/x-python",
      "name": "python",
      "nbconvert_exporter": "python",
      "pygments_lexer": "ipython3",
      "version": "3.8.8"
    }
  },
  "cells": [
    {
      "cell_type": "markdown",
      "metadata": {
        "id": "RCAfql8iWico"
      },
      "source": [
        "## 서울특별시 코로나19 확진자 발생동향에 대해 제공된 데이터 seoul_corona19_trend.csv 파일을 이용해 아래와 같은 작업을 수행해보자."
      ]
    },
    {
      "cell_type": "markdown",
      "metadata": {
        "id": "CYZ9X9v_Wicp"
      },
      "source": [
        "#### 수집한 데이터를 기준으로 2021년 매 월별 서울 평균 확진자와 전국 평균 확진자 수를 구하시오."
      ]
    },
    {
      "cell_type": "code",
      "metadata": {
        "id": "CeC5ltcVNff1"
      },
      "source": [
        "import pandas as pd\n",
        "import numpy as np\n",
        "from IPython.core.interactiveshell import InteractiveShell\n",
        "InteractiveShell.ast_node_interactivity = \"all\"\n",
        "corona_df = pd.read_csv('seoul_corona19_trend.csv', encoding='cp949')\n",
        "\n",
        "# corona_df"
      ],
      "execution_count": 1,
      "outputs": []
    },
    {
      "cell_type": "code",
      "metadata": {
        "id": "YsGxmqmzRvUW"
      },
      "source": [
        "corona_df['new_date'] = pd.to_datetime(corona_df['서울시 기준일'])\n",
        "corona_df.set_index('new_date', inplace=True)"
      ],
      "execution_count": 2,
      "outputs": []
    },
    {
      "cell_type": "code",
      "metadata": {
        "id": "N0vWoC0VOOgr"
      },
      "source": [
        "import numpy as np\n",
        "# 열 범위를 슬라이싱\n",
        "corona_df_seoul = [corona_df.loc['2021-06', '서울시 확진자'].mean(),\n",
        "                   corona_df.loc['2021-05', '서울시 확진자'].mean(),\n",
        "                   corona_df.loc['2021-04', '서울시 확진자'].mean(),\n",
        "                   corona_df.loc['2021-03', '서울시 확진자'].mean(),\n",
        "                   corona_df.loc['2021-02', '서울시 확진자'].mean(),\n",
        "                   corona_df.loc['2021-01', '서울시 확진자'].mean()]\n",
        "\n",
        "int_type_corona_df_seoul = [int(corona_df_seoul[0]),\n",
        "                            int(corona_df_seoul[1]),\n",
        "                            int(corona_df_seoul[2]),\n",
        "                            int(corona_df_seoul[3]),\n",
        "                            int(corona_df_seoul[4]),\n",
        "                            int(corona_df_seoul[5])]\n",
        "# avg_corona_df_seoul = np.array(int_type_corona_df_seoul)\n",
        "# print(f'월별 서울 확진자의 평균: ')\n",
        "# print(avg_corona_df_seoul)\n",
        "# print('\\n')\n",
        "\n",
        "# average_seoul = np.mean(avg_corona_df_seoul)\n",
        "# average_seoul= int(average_seoul)\n",
        "# average_seoul\n",
        "# print('\\n')\n",
        "\n",
        "corona_df_all = [corona_df.loc['2021-06', '전국 확진'].mean(),\n",
        "                 corona_df.loc['2021-05', '전국 확진'].mean(),\n",
        "                 corona_df.loc['2021-04', '전국 확진'].mean(),\n",
        "                 corona_df.loc['2021-03', '전국 확진'].mean(),\n",
        "                 corona_df.loc['2021-02', '전국 확진'].mean(),\n",
        "                 corona_df.loc['2021-01', '전국 확진'].mean()]\n",
        "int_type_corona_df_all = [int(corona_df_all[0]),\n",
        "                          int(corona_df_all[1]),\n",
        "                          int(corona_df_all[2]),\n",
        "                          int(corona_df_all[3]),\n",
        "                          int(corona_df_all[4]),\n",
        "                          int(corona_df_all[5])]\n",
        "# avg_corona_df_all = np.array(int_type_corona_df_all)\n",
        "# print(f'월별 전국 확진자의 평균: ')\n",
        "# print(avg_corona_df_all)\n",
        "# print('\\n')\n",
        "\n",
        "# average_all = np.mean(avg_corona_df_all)\n",
        "# average_all = int(average_all)\n",
        "# average_all"
      ],
      "execution_count": 22,
      "outputs": []
    },
    {
      "cell_type": "code",
      "source": [
        "print('월별 서울 확진자의 평균: ')\n",
        "for i in range(6):\n",
        "  print(f'{i+1}월: {int_type_corona_df_seoul[i]}명')\n",
        "print('\\n')\n",
        "\n",
        "print('월별 전국 확진자의 평균: ')\n",
        "for i in range(6):\n",
        "  print(f'{i+1}월: {int_type_corona_df_all[i]}명')"
      ],
      "metadata": {
        "colab": {
          "base_uri": "https://localhost:8080/"
        },
        "id": "1A46eMdaLRCB",
        "outputId": "5ad2e03e-0528-46bd-9852-d64bab2408db"
      },
      "execution_count": 21,
      "outputs": [
        {
          "output_type": "stream",
          "name": "stdout",
          "text": [
            "월별 서울 확진자의 평균: \n",
            "1월: 46315명\n",
            "2월: 40968명\n",
            "3월: 34949명\n",
            "4월: 30158명\n",
            "5월: 26294명\n",
            "6월: 22143명\n",
            "\n",
            "\n",
            "월별 전국 확진자의 평균: \n",
            "1월: 147331명\n",
            "2월: 131491명\n",
            "3월: 112538명\n",
            "4월: 96436명\n",
            "5월: 84019명\n",
            "6월: 71096명\n"
          ]
        }
      ]
    },
    {
      "cell_type": "markdown",
      "metadata": {
        "id": "CotO83VTWicp"
      },
      "source": [
        "#### 수집한 데이터를 기준으로 2021년 매 월별 서울 확진자의 비율 (서울 확진자 / 전국 확진자 수) 을 구하시오."
      ]
    },
    {
      "cell_type": "code",
      "metadata": {
        "id": "K0qe3C6IWicq",
        "colab": {
          "base_uri": "https://localhost:8080/"
        },
        "outputId": "e50c19a2-3e0e-41a4-e95b-fdd43bdd7827"
      },
      "source": [
        "corona_1_ratio = (corona_df.loc['2021-01-01':'2021-01-31', '서울시 확진자'].mean() / corona_df.loc['2021-01-01':'2021-01-31', '전국 확진'].mean()) * 100\n",
        "corona_1_ratio = int(corona_1_ratio)\n",
        "print(f'1월 서울 확진자의 비율: {corona_1_ratio}%')\n",
        "\n",
        "corona_2_ratio = (corona_df.loc['2021-02-01':'2021-02-28', '서울시 확진자'].mean() / corona_df.loc['2021-02-01':'2021-02-28', '전국 확진'].mean()) * 100\n",
        "corona_2_ratio = int(corona_2_ratio)\n",
        "print(f'2월 서울 확진자의 비율: {corona_2_ratio}%')\n",
        "\n",
        "corona_3_ratio = (corona_df.loc['2021-03-01':'2021-03-31', '서울시 확진자'].mean() / corona_df.loc['2021-03-01':'2021-03-31', '전국 확진'].mean()) * 100\n",
        "corona_3_ratio = int(corona_3_ratio)\n",
        "print(f'3월 서울 확진자의 비율: {corona_3_ratio}%')\n",
        "\n",
        "corona_4_ratio = (corona_df.loc['2021-04-01':'2021-04-30', '서울시 확진자'].mean() / corona_df.loc['2021-04-01':'2021-04-30', '전국 확진'].mean()) * 100\n",
        "corona_4_ratio = int(corona_4_ratio)\n",
        "print(f'4월 서울 확진자의 비율: {corona_4_ratio}%')\n",
        "\n",
        "corona_5_ratio = (corona_df.loc['2021-05-01':'2021-05-31', '서울시 확진자'].mean() / corona_df.loc['2021-05-01':'2021-05-31', '전국 확진'].mean()) * 100\n",
        "corona_5_ratio = int(corona_5_ratio)\n",
        "print(f'5월 서울 확진자의 비율: {corona_5_ratio}%')\n",
        "\n",
        "corona_6_ratio = (corona_df.loc['2021-06-01':'2021-06-24', '서울시 확진자'].mean() / corona_df.loc['2021-06-01':'2021-06-24', '전국 확진'].mean()) * 100\n",
        "corona_6_ratio = int(corona_6_ratio)\n",
        "print(f'6월 서울 확진자의 비율: {corona_6_ratio}%')"
      ],
      "execution_count": 26,
      "outputs": [
        {
          "output_type": "stream",
          "name": "stdout",
          "text": [
            "1월 서울 확진자의 비율: 31%\n",
            "2월 서울 확진자의 비율: 31%\n",
            "3월 서울 확진자의 비율: 31%\n",
            "4월 서울 확진자의 비율: 31%\n",
            "5월 서울 확진자의 비율: 31%\n",
            "6월 서울 확진자의 비율: 31%\n"
          ]
        }
      ]
    },
    {
      "cell_type": "markdown",
      "metadata": {
        "id": "37gtipr6Wicq"
      },
      "source": [
        "#### 수집한 데이터를 기준으로 2020년 2월 부터 2021년 6월까지 월별 전국, 서울 기준 확진자 및 사망자의 추이를 선 그래프로 비교해보고자 한다.\n",
        "#### 범례를 포함하여 선 그래프(line plot)로 이를 그려보자."
      ]
    },
    {
      "cell_type": "code",
      "metadata": {
        "id": "suli4m8BWicq"
      },
      "source": [
        "%matplotlib inline\n",
        "import matplotlib.pyplot as plt"
      ],
      "execution_count": 27,
      "outputs": []
    },
    {
      "cell_type": "code",
      "source": [
        "!sudo apt-get install -y fonts-nanum\n",
        "!sudo fc-cache -fv\n",
        "!rm ~/.cache/matplotlib -rf"
      ],
      "metadata": {
        "colab": {
          "base_uri": "https://localhost:8080/"
        },
        "id": "ECO8ZqUk9DsR",
        "outputId": "881146b2-78b5-49af-b52e-c9774411f2c1"
      },
      "execution_count": 28,
      "outputs": [
        {
          "output_type": "stream",
          "name": "stdout",
          "text": [
            "Reading package lists... Done\n",
            "Building dependency tree... Done\n",
            "Reading state information... Done\n",
            "fonts-nanum is already the newest version (20200506-1).\n",
            "0 upgraded, 0 newly installed, 0 to remove and 45 not upgraded.\n",
            "/usr/share/fonts: caching, new cache contents: 0 fonts, 1 dirs\n",
            "/usr/share/fonts/truetype: caching, new cache contents: 0 fonts, 3 dirs\n",
            "/usr/share/fonts/truetype/humor-sans: caching, new cache contents: 1 fonts, 0 dirs\n",
            "/usr/share/fonts/truetype/liberation: caching, new cache contents: 16 fonts, 0 dirs\n",
            "/usr/share/fonts/truetype/nanum: caching, new cache contents: 12 fonts, 0 dirs\n",
            "/usr/local/share/fonts: caching, new cache contents: 0 fonts, 0 dirs\n",
            "/root/.local/share/fonts: skipping, no such directory\n",
            "/root/.fonts: skipping, no such directory\n",
            "/usr/share/fonts/truetype: skipping, looped directory detected\n",
            "/usr/share/fonts/truetype/humor-sans: skipping, looped directory detected\n",
            "/usr/share/fonts/truetype/liberation: skipping, looped directory detected\n",
            "/usr/share/fonts/truetype/nanum: skipping, looped directory detected\n",
            "/var/cache/fontconfig: cleaning cache directory\n",
            "/root/.cache/fontconfig: not cleaning non-existent cache directory\n",
            "/root/.fontconfig: not cleaning non-existent cache directory\n",
            "fc-cache: succeeded\n"
          ]
        }
      ]
    },
    {
      "cell_type": "code",
      "source": [
        "corona_df['new_date'] = pd.to_datetime(corona_df['서울시 기준일'])\n",
        "# print(corona_df.info())\n",
        "# corona_df.head()"
      ],
      "metadata": {
        "id": "f7ZRFKvBaXwX"
      },
      "execution_count": 29,
      "outputs": []
    },
    {
      "cell_type": "code",
      "source": [
        "# corona_df_confirmed_deaths_cols = corona_df[['서울시 확진자', '서울시 사망']]\n",
        "# print(corona_df_confirmed_deaths_cols)\n",
        "# print('\\n')"
      ],
      "metadata": {
        "id": "EAdsjYOqbW5S"
      },
      "execution_count": null,
      "outputs": []
    },
    {
      "cell_type": "code",
      "source": [
        "# 확진일자로 선그래프를 그립니다.\n",
        "plt.rc(\"font\", family=\"NanumGothic\")\n",
        "\n",
        "plt.plot(corona_df['new_date'],corona_df['전국 확진'], color='c', label='전국 확진자')\n",
        "plt.plot(corona_df['new_date'],corona_df['서울시 확진자'], color='m', label='서울시 확진자')\n",
        "plt.plot(corona_df['new_date'],corona_df['전국 사망'], color='g', label='전국 사망자')\n",
        "plt.plot(corona_df['new_date'],corona_df['서울시 사망'], color='r', label='서울시 사망')\n",
        "\n",
        "plt.xlabel('월별')\n",
        "plt.ylabel('확진자 및 사망자 추이')\n",
        "plt.show()"
      ],
      "metadata": {
        "colab": {
          "base_uri": "https://localhost:8080/",
          "height": 561
        },
        "id": "2omDh9-QQhz2",
        "outputId": "606baa78-3afd-4044-ecf0-3e1bf675676e"
      },
      "execution_count": 50,
      "outputs": [
        {
          "output_type": "execute_result",
          "data": {
            "text/plain": [
              "[<matplotlib.lines.Line2D at 0x7d299cb5dde0>]"
            ]
          },
          "metadata": {},
          "execution_count": 50
        },
        {
          "output_type": "execute_result",
          "data": {
            "text/plain": [
              "[<matplotlib.lines.Line2D at 0x7d299cb79f00>]"
            ]
          },
          "metadata": {},
          "execution_count": 50
        },
        {
          "output_type": "execute_result",
          "data": {
            "text/plain": [
              "[<matplotlib.lines.Line2D at 0x7d299cb79c30>]"
            ]
          },
          "metadata": {},
          "execution_count": 50
        },
        {
          "output_type": "execute_result",
          "data": {
            "text/plain": [
              "[<matplotlib.lines.Line2D at 0x7d299cb7a3b0>]"
            ]
          },
          "metadata": {},
          "execution_count": 50
        },
        {
          "output_type": "execute_result",
          "data": {
            "text/plain": [
              "Text(0.5, 0, '월별')"
            ]
          },
          "metadata": {},
          "execution_count": 50
        },
        {
          "output_type": "execute_result",
          "data": {
            "text/plain": [
              "Text(0, 0.5, '확진자 및 사망자 추이')"
            ]
          },
          "metadata": {},
          "execution_count": 50
        },
        {
          "output_type": "display_data",
          "data": {
            "text/plain": [
              "<Figure size 640x480 with 1 Axes>"
            ],
            "image/png": "[encoded data removed]"
          },
          "metadata": {}
        }
      ]
    },
    {
      "cell_type": "code",
      "source": [
        "# corona_df[\"new_date\"].value_counts().sort_index().plot(figsize=(15, 4))\n",
        "# plt.axhline(30, color=\"red\", linestyle=\":\")"
      ],
      "metadata": {
        "id": "o4wdfssAmPkh"
      },
      "execution_count": 51,
      "outputs": []
    },
    {
      "cell_type": "markdown",
      "metadata": {
        "id": "qefJ1H7MWicr"
      },
      "source": [
        "#### 수집한 데이터는 누적값으로 측정되어 있다. 2020년 2월 부터 2021년 6월까지 누적값이 아닌 개별 값 기준 월별 전국, 서울 확진자 수치를 막대 그래프(bar chart)로 비교해보고자 한다.\n",
        "#### 위와 마찬가지로 범례를 포함하여 이를 그려보자."
      ]
    },
    {
      "cell_type": "code",
      "source": [
        "data_seoul = corona_df['서울시 확진자']\n",
        "data_all = corona_df['전국 확진']\n",
        "x = corona_df['new_date']\n",
        "plt.bar(x, data_all, label= '전국 확진')\n",
        "plt.bar(x, data_seoul, label='서울시 확진자')\n",
        "\n",
        "# 범례 표시\n",
        "plt.legend()\n",
        "\n",
        "# x축 라벨 설정\n",
        "plt.xlabel('날짜')\n",
        "\n",
        "# y축 라벨 설정\n",
        "plt.ylabel('확진자 수')\n",
        "\n",
        "# 그래프 제목 설정\n",
        "plt.title('2020년 2월 부터 2021년 6월까지 월별 전국, 서울 기준 확진자 수치')\n",
        "\n",
        "# 그래프 표시\n",
        "plt.show()"
      ],
      "metadata": {
        "id": "GicKtvErU4tX",
        "colab": {
          "base_uri": "https://localhost:8080/",
          "height": 579
        },
        "outputId": "0370c377-6af8-41ba-8a77-e67a634ef0ec"
      },
      "execution_count": 57,
      "outputs": [
        {
          "output_type": "execute_result",
          "data": {
            "text/plain": [
              "<BarContainer object of 507 artists>"
            ]
          },
          "metadata": {},
          "execution_count": 57
        },
        {
          "output_type": "execute_result",
          "data": {
            "text/plain": [
              "<BarContainer object of 507 artists>"
            ]
          },
          "metadata": {},
          "execution_count": 57
        },
        {
          "output_type": "execute_result",
          "data": {
            "text/plain": [
              "<matplotlib.legend.Legend at 0x7d2999cbd000>"
            ]
          },
          "metadata": {},
          "execution_count": 57
        },
        {
          "output_type": "execute_result",
          "data": {
            "text/plain": [
              "Text(0.5, 0, '날짜')"
            ]
          },
          "metadata": {},
          "execution_count": 57
        },
        {
          "output_type": "execute_result",
          "data": {
            "text/plain": [
              "Text(0, 0.5, '확진자 수')"
            ]
          },
          "metadata": {},
          "execution_count": 57
        },
        {
          "output_type": "execute_result",
          "data": {
            "text/plain": [
              "Text(0.5, 1.0, '2020년 2월 부터 2021년 6월까지 월별 전국, 서울 기준 확진자 수치')"
            ]
          },
          "metadata": {},
          "execution_count": 57
        },
        {
          "output_type": "display_data",
          "data": {
            "text/plain": [
              "<Figure size 640x480 with 1 Axes>"
            ],
            "image/png": "[encoded data removed]"
          },
          "metadata": {}
        }
      ]
    },
    {
      "cell_type": "code",
      "source": [
        "# data_seoul = corona_df['서울시 확진자']\n",
        "# data_all = corona_df['전국 확진']\n",
        "# x = corona_df['new_date']\n",
        "# plt.bar(x, data_all, color='m')\n",
        "# plt.bar(x, data_seoul, color='c')\n",
        "\n",
        "# plt.title('Bar Chart')\n",
        "# plt.show()"
      ],
      "metadata": {
        "id": "cOJcKiShlY3Y"
      },
      "execution_count": 59,
      "outputs": []
    },
    {
      "cell_type": "code",
      "source": [
        "# month_case = corona_df[\"Month\"].value_counts().sort_index()\n",
        "# month_case\n",
        "# g = month_case.plot.bar(rot=0)\n",
        "\n",
        "# for i in range(len(month_case)):\n",
        "#     g.text(x=i-0.2, y=month_case.iloc[i]+10, s=month_case.iloc[i])"
      ],
      "metadata": {
        "id": "Tb8w-jQEmwAx"
      },
      "execution_count": null,
      "outputs": []
    },
    {
      "cell_type": "markdown",
      "metadata": {
        "id": "95PZIjeLDGRc"
      },
      "source": [
        "#### Etc)\n",
        "#### - 주어진 데이터의 요소(column)를 이용해서 어떤 방향성을 얻을 수 있을지, 그에 따른 어떤 의사결정을 내릴 수 있을지 의견을 나눠봅시다.\n",
        "\n",
        "#### - 기사에 제공하는 데이터 시각화 자료를 만든다면 어떤 데이터를 기준으로, 어떻게 주제를 선정해서 기사를 작성할 수 있을지 의견을 나눠봅시다."
      ]
    }
  ]
}