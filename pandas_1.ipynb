{
  "nbformat": 4,
  "nbformat_minor": 0,
  "metadata": {
    "colab": {
      "name": "pandas_실습1.ipynb",
      "provenance": [],
      "collapsed_sections": []
    },
    "kernelspec": {
      "display_name": "Python 3",
      "language": "python",
      "name": "python3"
    },
    "language_info": {
      "codemirror_mode": {
        "name": "ipython",
        "version": 3
      },
      "file_extension": ".py",
      "mimetype": "text/x-python",
      "name": "python",
      "nbconvert_exporter": "python",
      "pygments_lexer": "ipython3",
      "version": "3.8.5"
    }
  },
  "cells": [
    {
      "cell_type": "markdown",
      "metadata": {
        "id": "0JLjpmghHfol"
      },
      "source": [
        "### 제공한 데이터 파일(titanic.csv)을 이용하여 아래 통계치들을 계산하시오."
      ]
    },
    {
      "cell_type": "markdown",
      "metadata": {
        "id": "G958mU2cSd6O"
      },
      "source": [
        "#### 데이터 파일을 불러온다."
      ]
    },
    {
      "cell_type": "code",
      "metadata": {
        "id": "yuoAA0ZOSd6P"
      },
      "source": [
        "import pandas as pd"
      ],
      "execution_count": null,
      "outputs": []
    },
    {
      "cell_type": "markdown",
      "metadata": {
        "id": "eeVQuoAcSd6P"
      },
      "source": [
        "#### 남성 탑승자의 평균 나이는?"
      ]
    },
    {
      "cell_type": "code",
      "metadata": {
        "id": "m6wFv9IUSd6P"
      },
      "source": [
        ""
      ],
      "execution_count": null,
      "outputs": []
    },
    {
      "cell_type": "markdown",
      "metadata": {
        "id": "ZpIHdfjhSd6Q"
      },
      "source": [
        "#### 여성 탑승자의 평균 나이는?"
      ]
    },
    {
      "cell_type": "code",
      "metadata": {
        "id": "HWRJlUORSd6Q"
      },
      "source": [
        ""
      ],
      "execution_count": null,
      "outputs": []
    },
    {
      "cell_type": "markdown",
      "metadata": {
        "id": "E6fiAfO3Sd6Q"
      },
      "source": [
        "#### 남성 생존자의 평균 나이는?"
      ]
    },
    {
      "cell_type": "code",
      "metadata": {
        "id": "Ge2gsZgMSd6Q"
      },
      "source": [
        ""
      ],
      "execution_count": null,
      "outputs": []
    },
    {
      "cell_type": "markdown",
      "metadata": {
        "id": "myrXTG5jSd6R"
      },
      "source": [
        "#### 여성 생존자의 평균 나이는?"
      ]
    },
    {
      "cell_type": "code",
      "metadata": {
        "id": "MtgRJrDMSd6R"
      },
      "source": [
        ""
      ],
      "execution_count": null,
      "outputs": []
    },
    {
      "cell_type": "markdown",
      "metadata": {
        "id": "fNFSdFHFSd6R"
      },
      "source": [
        "#### 남성 생존자 중 최고령 생존자의 나이는?"
      ]
    },
    {
      "cell_type": "code",
      "metadata": {
        "id": "TYWfmUysSd6R"
      },
      "source": [
        ""
      ],
      "execution_count": null,
      "outputs": []
    },
    {
      "cell_type": "markdown",
      "metadata": {
        "id": "RpBBla5nSd6R"
      },
      "source": [
        "#### 여성 생존자 중 가장 어린 생존자의 나이는?"
      ]
    },
    {
      "cell_type": "code",
      "metadata": {
        "id": "kWVRr0osSd6R"
      },
      "source": [
        ""
      ],
      "execution_count": null,
      "outputs": []
    },
    {
      "cell_type": "markdown",
      "metadata": {
        "id": "K1GfpgFySd6S"
      },
      "source": [
        "#### 1등석 승객이면서 생존자의 평균 나이는?"
      ]
    },
    {
      "cell_type": "code",
      "metadata": {
        "id": "Q1ax0uhwSd6S"
      },
      "source": [
        ""
      ],
      "execution_count": null,
      "outputs": []
    },
    {
      "cell_type": "markdown",
      "metadata": {
        "id": "rf8pdjUxSd6S"
      },
      "source": [
        "#### 3등석 승객이면서 승선지가 퀸스타운(Q)이거나 사우샘프턴(S)인 승객 중 생존자는 총 몇명인가?"
      ]
    },
    {
      "cell_type": "code",
      "metadata": {
        "id": "D3LKbdgCSd6S"
      },
      "source": [
        ""
      ],
      "execution_count": null,
      "outputs": []
    }
  ]
}