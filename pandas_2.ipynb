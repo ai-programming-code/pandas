{
 "cells": [
  {
   "cell_type": "markdown",
   "metadata": {
    "id": "RCAfql8iWico"
   },
   "source": [
    "## 서울특별시 코로나19 확진자 발생동향에 대해 제공된 데이터 seoul_corona19_trend.csv 파일을 이용해 아래와 같은 작업을 수행해보자."
   ]
  },
  {
   "cell_type": "markdown",
   "metadata": {
    "id": "CYZ9X9v_Wicp"
   },
   "source": [
    "#### 수집한 데이터를 기준으로 2021년 매 월별 서울 평균 확진자와 전국 평균 확진자 수를 구하시오."
   ]
  },
  {
   "cell_type": "code",
   "execution_count": null,
   "metadata": {
    "id": "V7ByqFpqWicp"
   },
   "outputs": [],
   "source": []
  },
  {
   "cell_type": "markdown",
   "metadata": {
    "id": "CotO83VTWicp"
   },
   "source": [
    "#### 수집한 데이터를 기준으로 2021년 매 월별 서울 확진자의 비율 (서울 확진자 / 전국 확진자 수) 을 구하시오."
   ]
  },
  {
   "cell_type": "code",
   "execution_count": null,
   "metadata": {
    "id": "K0qe3C6IWicq"
   },
   "outputs": [],
   "source": []
  },
  {
   "cell_type": "markdown",
   "metadata": {
    "id": "37gtipr6Wicq"
   },
   "source": [
    "#### 수집한 데이터를 기준으로 2020년 2월 부터 2021년 6월까지 월별 전국, 서울 기준 확진자 및 사망자의 추이를 선 그래프로 비교해보고자 한다.\n",
    "#### 범례를 포함하여 선 그래프(line plot)로 이를 그려보자."
   ]
  },
  {
   "cell_type": "code",
   "execution_count": null,
   "metadata": {
    "id": "suli4m8BWicq"
   },
   "outputs": [],
   "source": []
  },
  {
   "cell_type": "markdown",
   "metadata": {
    "id": "qefJ1H7MWicr"
   },
   "source": [
    "#### 수집한 데이터는 누적값으로 측정되어 있다. 2020년 2월 부터 2021년 6월까지 누적값이 아닌 개별 값 기준 월별 전국, 서울 확진자 수치를 막대 그래프(bar chart)로 비교해보고자 한다.\n",
    "#### 위와 마찬가지로 범례를 포함하여 이를 그려보자."
   ]
  },
  {
   "cell_type": "code",
   "execution_count": null,
   "metadata": {
    "id": "5PPH3L6BWicr"
   },
   "outputs": [],
   "source": []
  },
  {
   "cell_type": "markdown",
   "metadata": {},
   "source": [
    "#### Etc)\n",
    "#### - 주어진 데이터의 요소(column)를 이용해서 어떤 방향성을 얻을 수 있을지, 그에 따른 어떤 의사결정을 내릴 수 있을지 의견을 나눠봅시다.\n",
    "\n",
    "#### - 기사에 제공하는 데이터 시각화 자료를 만든다면 어떤 데이터를 기준으로, 어떻게 주제를 선정해서 기사를 작성할 수 있을지 의견을 나눠봅시다."
   ]
  }
 ],
 "metadata": {
  "colab": {
   "name": "pandas_2.ipynb",
   "provenance": []
  },
  "kernelspec": {
   "display_name": "Python 3",
   "language": "python",
   "name": "python3"
  },
  "language_info": {
   "codemirror_mode": {
    "name": "ipython",
    "version": 3
   },
   "file_extension": ".py",
   "mimetype": "text/x-python",
   "name": "python",
   "nbconvert_exporter": "python",
   "pygments_lexer": "ipython3",
   "version": "3.8.8"
  }
 },
 "nbformat": 4,
 "nbformat_minor": 1
}
